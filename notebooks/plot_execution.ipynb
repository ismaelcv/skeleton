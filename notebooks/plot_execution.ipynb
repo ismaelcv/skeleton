{
 "cells": [
  {
   "cell_type": "markdown",
   "id": "4784623d-db86-40fa-a3b4-74165568af2e",
   "metadata": {},
   "source": [
    "#### Import Libraries"
   ]
  },
  {
   "cell_type": "code",
   "execution_count": 4,
   "id": "88de80d9-3bff-4ff5-99f3-3c3ec81805e3",
   "metadata": {},
   "outputs": [
    {
     "name": "stdout",
     "output_type": "stream",
     "text": [
      "The autoreload extension is already loaded. To reload it, use:\n",
      "  %reload_ext autoreload\n"
     ]
    }
   ],
   "source": [
    "%load_ext autoreload\n",
    "%autoreload 2\n",
    "\n",
    "import six\n",
    "import pandas as pd"
   ]
  },
  {
   "cell_type": "markdown",
   "id": "ec63bc41-2998-4c6d-b135-df7450c30893",
   "metadata": {},
   "source": [
    "#### Load datasets "
   ]
  },
  {
   "cell_type": "code",
   "execution_count": 2,
   "id": "b8e169ec-f85b-4f81-ac8b-f0a8e902d98d",
   "metadata": {},
   "outputs": [],
   "source": [
    "boston = pd.read_csv(\"../datasets/boston_housing.csv\")"
   ]
  },
  {
   "cell_type": "markdown",
   "id": "6c024f4e-bd17-4d76-aab7-bd7638241fe6",
   "metadata": {},
   "source": [
    "#### Plots"
   ]
  },
  {
   "cell_type": "code",
   "execution_count": 1,
   "id": "5d4fcf2b-7ace-4319-a9d5-2ea5cb53242f",
   "metadata": {},
   "outputs": [],
   "source": [
    "from skeleton.wrangling.grouping import ratio_per_category\n"
   ]
  },
  {
   "cell_type": "code",
   "execution_count": 5,
   "id": "f164ec25-c3fe-4d19-a46b-3f5a63b6513f",
   "metadata": {},
   "outputs": [
    {
     "ename": "ModuleNotFoundError",
     "evalue": "No module named 'skeleton'",
     "output_type": "error",
     "traceback": [
      "\u001b[0;31m---------------------------------------------------------------------------\u001b[0m",
      "\u001b[0;31mModuleNotFoundError\u001b[0m                       Traceback (most recent call last)",
      "\u001b[0;32m/tmp/ipykernel_19798/646102583.py\u001b[0m in \u001b[0;36m<module>\u001b[0;34m\u001b[0m\n\u001b[0;32m----> 1\u001b[0;31m \u001b[0;32mimport\u001b[0m \u001b[0mskeleton\u001b[0m\u001b[0;34m\u001b[0m\u001b[0;34m\u001b[0m\u001b[0m\n\u001b[0m\u001b[1;32m      2\u001b[0m \u001b[0;34m\u001b[0m\u001b[0m\n",
      "\u001b[0;31mModuleNotFoundError\u001b[0m: No module named 'skeleton'"
     ]
    }
   ],
   "source": [
    "import skeleton\n",
    "\n"
   ]
  },
  {
   "cell_type": "code",
   "execution_count": 7,
   "id": "ee412918-181d-4655-993a-820fe562f95b",
   "metadata": {},
   "outputs": [],
   "source": [
    "import matplotlib.pyplot as plt\n"
   ]
  },
  {
   "cell_type": "code",
   "execution_count": 10,
   "id": "7f6f4f6e-968d-4f2d-9d49-5d246c1ef84d",
   "metadata": {},
   "outputs": [
    {
     "data": {
      "text/plain": [
       "matplotlib.figure.Figure"
      ]
     },
     "execution_count": 10,
     "metadata": {},
     "output_type": "execute_result"
    }
   ],
   "source": [
    "type(fig)"
   ]
  },
  {
   "cell_type": "code",
   "execution_count": 11,
   "id": "95b494cf-812f-46f3-8909-16407406fad7",
   "metadata": {},
   "outputs": [
    {
     "data": {
      "text/plain": [
       "matplotlib.axes._subplots.AxesSubplot"
      ]
     },
     "execution_count": 11,
     "metadata": {},
     "output_type": "execute_result"
    }
   ],
   "source": [
    "type(ax)"
   ]
  },
  {
   "cell_type": "code",
   "execution_count": 9,
   "id": "4a68a84c-d80a-461f-a9da-8365e8d4c82c",
   "metadata": {},
   "outputs": [
    {
     "data": {
      "image/png": "[encoded data removed]",
      "text/plain": [
       "<Figure size 1440x576 with 1 Axes>"
      ]
     },
     "metadata": {
      "needs_background": "light"
     },
     "output_type": "display_data"
    }
   ],
   "source": [
    "fig, ax = plt.subplots(figsize=(20, 4 * 2))\n"
   ]
  },
  {
   "cell_type": "code",
   "execution_count": 5,
   "id": "f6f62b57-a65d-4b1d-b3f9-a3c35b195eea",
   "metadata": {},
   "outputs": [
    {
     "ename": "ModuleNotFoundError",
     "evalue": "No module named 'skeleton'",
     "output_type": "error",
     "traceback": [
      "\u001b[0;31m---------------------------------------------------------------------------\u001b[0m",
      "\u001b[0;31mModuleNotFoundError\u001b[0m                       Traceback (most recent call last)",
      "\u001b[0;32m/tmp/ipykernel_17482/415655954.py\u001b[0m in \u001b[0;36m<module>\u001b[0;34m\u001b[0m\n\u001b[0;32m----> 1\u001b[0;31m \u001b[0;32mfrom\u001b[0m \u001b[0mskeleton\u001b[0m\u001b[0;34m.\u001b[0m\u001b[0mplots\u001b[0m\u001b[0;34m.\u001b[0m\u001b[0mbarplots\u001b[0m \u001b[0;32mimport\u001b[0m \u001b[0mplot_percentage_per_subcategory\u001b[0m\u001b[0;34m\u001b[0m\u001b[0;34m\u001b[0m\u001b[0m\n\u001b[0m\u001b[1;32m      2\u001b[0m \u001b[0;34m\u001b[0m\u001b[0m\n\u001b[1;32m      3\u001b[0m \u001b[0mplot_percentage_per_subcategory\u001b[0m\u001b[0;34m(\u001b[0m\u001b[0mboston\u001b[0m\u001b[0;34m,\u001b[0m \u001b[0mprimary\u001b[0m\u001b[0;34m=\u001b[0m\u001b[0;34m'Neighborhood'\u001b[0m\u001b[0;34m,\u001b[0m\u001b[0msencodary\u001b[0m\u001b[0;34m=\u001b[0m\u001b[0;34m'HouseStyle'\u001b[0m\u001b[0;34m)\u001b[0m\u001b[0;34m\u001b[0m\u001b[0;34m\u001b[0m\u001b[0m\n",
      "\u001b[0;31mModuleNotFoundError\u001b[0m: No module named 'skeleton'"
     ]
    }
   ],
   "source": [
    "from skeleton.plots.barplots import plot_percentage_per_subcategory\n",
    "\n",
    "plot_percentage_per_subcategory(boston, primary='Neighborhood',sencodary='HouseStyle')"
   ]
  },
  {
   "cell_type": "code",
   "execution_count": 12,
   "id": "46043688-6aa1-4e26-8969-f7c710d94fd6",
   "metadata": {},
   "outputs": [
    {
     "data": {
      "text/plain": [
       "array(['CollgCr', 'Veenker', 'Crawfor', 'NoRidge', 'Mitchel', 'Somerst',\n",
       "       'NWAmes', 'OldTown', 'BrkSide', 'Sawyer', 'NridgHt', 'NAmes',\n",
       "       'SawyerW', 'IDOTRR', 'MeadowV', 'Edwards', 'Timber', 'Gilbert',\n",
       "       'StoneBr', 'ClearCr', 'NPkVill', 'Blmngtn', 'BrDale', 'SWISU',\n",
       "       'Blueste'], dtype=object)"
      ]
     },
     "execution_count": 12,
     "metadata": {},
     "output_type": "execute_result"
    }
   ],
   "source": [
    "boston.Neighborhood.unique()"
   ]
  },
  {
   "cell_type": "code",
   "execution_count": 11,
   "id": "cc71f74d-8918-41bf-95f7-2584663abbce",
   "metadata": {},
   "outputs": [
    {
     "data": {
      "text/plain": [
       "Index(['Id', 'MSSubClass', 'MSZoning', 'LotFrontage', 'LotArea', 'Street',\n",
       "       'Alley', 'LotShape', 'LandContour', 'Utilities', 'LotConfig',\n",
       "       'LandSlope', 'Neighborhood', 'Condition1', 'Condition2', 'BldgType',\n",
       "       'HouseStyle', 'OverallQual', 'OverallCond', 'YearBuilt', 'YearRemodAdd',\n",
       "       'RoofStyle', 'RoofMatl', 'Exterior1st', 'Exterior2nd', 'MasVnrType',\n",
       "       'MasVnrArea', 'ExterQual', 'ExterCond', 'Foundation', 'BsmtQual',\n",
       "       'BsmtCond', 'BsmtExposure', 'BsmtFinType1', 'BsmtFinSF1',\n",
       "       'BsmtFinType2', 'BsmtFinSF2', 'BsmtUnfSF', 'TotalBsmtSF', 'Heating',\n",
       "       'HeatingQC', 'CentralAir', 'Electrical', '1stFlrSF', '2ndFlrSF',\n",
       "       'LowQualFinSF', 'GrLivArea', 'BsmtFullBath', 'BsmtHalfBath', 'FullBath',\n",
       "       'HalfBath', 'BedroomAbvGr', 'KitchenAbvGr', 'KitchenQual',\n",
       "       'TotRmsAbvGrd', 'Functional', 'Fireplaces', 'FireplaceQu', 'GarageType',\n",
       "       'GarageYrBlt', 'GarageFinish', 'GarageCars', 'GarageArea', 'GarageQual',\n",
       "       'GarageCond', 'PavedDrive', 'WoodDeckSF', 'OpenPorchSF',\n",
       "       'EnclosedPorch', '3SsnPorch', 'ScreenPorch', 'PoolArea', 'PoolQC',\n",
       "       'Fence', 'MiscFeature', 'MiscVal', 'MoSold', 'YrSold', 'SaleType',\n",
       "       'SaleCondition', 'SalePrice'],\n",
       "      dtype='object')"
      ]
     },
     "execution_count": 11,
     "metadata": {},
     "output_type": "execute_result"
    }
   ],
   "source": [
    "boston.columns"
   ]
  }
 ],
 "metadata": {
  "kernelspec": {
   "display_name": "venv",
   "language": "python",
   "name": "venv"
  },
  "language_info": {
   "codemirror_mode": {
    "name": "ipython",
    "version": 3
   },
   "file_extension": ".py",
   "mimetype": "text/x-python",
   "name": "python",
   "nbconvert_exporter": "python",
   "pygments_lexer": "ipython3",
   "version": "3.8.10"
  }
 },
 "nbformat": 4,
 "nbformat_minor": 5
}
